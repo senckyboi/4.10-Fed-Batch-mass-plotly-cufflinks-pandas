{
 "cells": [
  {
   "cell_type": "markdown",
   "metadata": {},
   "source": [
    "$$\\frac{dms(t)}{dt} = csf*Fin - qs *cx*Vl$$\n",
    "\n",
    "$$\\frac{dmx(t)}{dt} =  µ *cx*Vl$$\n",
    "\n",
    "$$Fin = \\frac{dVl(t)}{dt}$$"
   ]
  },
  {
   "cell_type": "code",
   "execution_count": 1,
   "metadata": {
    "scrolled": false
   },
   "outputs": [
    {
     "name": "stdout",
     "output_type": "stream",
     "text": [
      "                     ms           mx         Vl\n",
      "time in h                                      \n",
      "0.000000   2.500000e+02   150.000000   5.000000\n",
      "0.151515   2.606193e+02   161.330477   5.303030\n",
      "0.303030   2.708995e+02   173.508924   5.606061\n",
      "0.454545   2.808156e+02   186.597436   5.909091\n",
      "0.606061   2.903409e+02   200.662848   6.212121\n",
      "...                 ...          ...        ...\n",
      "14.393939  1.219117e-06  2651.630789  20.013046\n",
      "14.545455 -4.907650e-07  2651.630793  20.013046\n",
      "14.696970  6.276200e-07  2651.630790  20.013046\n",
      "14.848485  2.895467e-07  2651.630791  20.013046\n",
      "15.000000  1.936860e-07  2651.630791  20.013046\n",
      "\n",
      "[100 rows x 3 columns]\n"
     ]
    },
    {
     "data": {
      "text/html": [
       "\n",
       "        <iframe\n",
       "            width=\"100%\"\n",
       "            height=\"525px\"\n",
       "            src=\"https://plotly.com/~senckyboi/163.embed\"\n",
       "            frameborder=\"0\"\n",
       "            allowfullscreen\n",
       "        ></iframe>\n",
       "        "
      ],
      "text/plain": [
       "<IPython.lib.display.IFrame at 0x2a07c9509d0>"
      ]
     },
     "execution_count": 1,
     "metadata": {},
     "output_type": "execute_result"
    }
   ],
   "source": [
    "import numpy as np\n",
    "from scipy.integrate import odeint, solve_ivp\n",
    "import matplotlib.pyplot as plt\n",
    "import pandas as pd\n",
    "import cufflinks as cf\n",
    "import chart_studio\n",
    "\n",
    "import plotly as py\n",
    "from plotly.offline import iplot\n",
    "#chart_studio.tools.set_credentials_file(username='name', api_key='key') #von chart_studio auf plotly page\n",
    "\n",
    "\n",
    "# Enter qsmax in g/g*h\n",
    "# Enter Ks in g/l\n",
    "# Enter µmax in 1/h\n",
    "# Enter entrance substrate concentration\n",
    "# enter inlet flow in l/h\n",
    "# enter the end vloume of the reactor\n",
    "\n",
    "qsmax = 0.2\n",
    "Ks = 2\n",
    "mumax = 0.5 \n",
    "csf = 50\n",
    "Fin = 2\n",
    "Vend = 20\n",
    "\n",
    "\n",
    "\n",
    "# def model (y, t):  # for use with old odeint\n",
    "def model (t, y):  # for use with new solve_ivp\n",
    "    \n",
    "    ms = y[0]\n",
    "    \n",
    "    mx = y[1]\n",
    "    \n",
    "    Vl = y[2]\n",
    "    \n",
    "    \n",
    "    cs = ms/Vl\n",
    "    \n",
    "    cx = mx/Vl\n",
    "    \n",
    "    qs = qsmax* cs/(cs + Ks)\n",
    "\n",
    "    mu = mumax*cs/(cs + Ks)\n",
    "    \n",
    "   \n",
    "    if Vl <= Vend:\n",
    "        dVldt = Fin\n",
    "    else:\n",
    "        dVldt = 0.0\n",
    "        \n",
    "    \n",
    "    dmsdt = csf*dVldt - qs *cx*Vl\n",
    "    \n",
    "    #Zulauf ohne Biomasse\n",
    "    dmxdt = mu*cx*Vl\n",
    "    \n",
    "    return (dmsdt, dmxdt, dVldt)\n",
    "\n",
    "\n",
    "t = np.linspace(0, 15, 100)\n",
    "\n",
    "y0 = [250, 150, 5]\n",
    "\n",
    "#result = odeint(model, y0, t) # old: odeint\n",
    "result = solve_ivp(model, [np.min(t), np.max(t)], y0, t_eval=t).y.T # new: solve_ivp\n",
    "\n",
    "\n",
    "\n",
    "\n",
    "pd.set_option('display.max_rows', 10)\n",
    "pandaframe = pd.DataFrame(result, columns= (\"ms\", \"mx\", \"Vl\"), index = t) #,index = np.round(t*60, 2) for min\n",
    "pandaframe.index.name = (\"time in h\")\n",
    "\n",
    "print(pandaframe)  # wenn man das nach dem plot printed kommt kein plot mehr\n",
    "\n",
    "layout = dict(title = \"Substratemass,Biomass, Volume over time\", xaxis= dict(title= \"time in h\"),  yaxis = dict(title= \"mass in g and volume in l\"))\n",
    "\n",
    "# in yaxis: type = \"log\", # yaxis: rangemode: 'tozero'# oder range=[fromValue,toValue]  wenn man log skala setzt sieht man das schwanken für ms vom solver im negativen bereich\n",
    "#deshalb wäre es vielleicht besser die y skala erst bei 0 starten zu lasssen.\n",
    "#oder die Schwankungen irgendwie zu glätten.\n",
    "\n",
    "pandaframe.iplot(layout = layout )\n",
    "\n"
   ]
  },
  {
   "cell_type": "markdown",
   "metadata": {},
   "source": [
    "In the following, the same with concentrations. And at the end multiplying the results with the respective volume to see if i get similar results like in the approach above.\n",
    "\n",
    "$$\\frac{dcs(t)}{dt} = \\frac{Fin}{Vl}*(csf-cs) - qs *cx$$\n",
    "\n",
    "$$\\frac{dcx(t)}{dt} = cx * \\left( µ-\\frac{Fin}{Vl} \\right)  $$\n",
    "\n",
    "\n",
    "\n"
   ]
  },
  {
   "cell_type": "code",
   "execution_count": 2,
   "metadata": {
    "scrolled": false
   },
   "outputs": [
    {
     "name": "stdout",
     "output_type": "stream",
     "text": [
      "                     cs          cx         Vl\n",
      "time in h                                     \n",
      "0.000000   5.000000e+01   30.000000   5.000000\n",
      "0.151515   4.914535e+01   30.422303   5.303030\n",
      "0.303030   4.832220e+01   30.949659   5.606061\n",
      "0.454545   4.752189e+01   31.576949   5.909091\n",
      "0.606061   4.673712e+01   32.300795   6.212121\n",
      "...                 ...         ...        ...\n",
      "14.393939 -4.524217e-07  132.499087  20.002439\n",
      "14.545455  1.908758e-07  132.499085  20.002439\n",
      "14.696970  1.043707e-08  132.499085  20.002439\n",
      "14.848485  1.833079e-07  132.499085  20.002439\n",
      "15.000000  6.173645e-07  132.499084  20.002439\n",
      "\n",
      "[100 rows x 3 columns]\n"
     ]
    },
    {
     "data": {
      "text/html": [
       "\n",
       "        <iframe\n",
       "            width=\"100%\"\n",
       "            height=\"525px\"\n",
       "            src=\"https://plotly.com/~senckyboi/165.embed\"\n",
       "            frameborder=\"0\"\n",
       "            allowfullscreen\n",
       "        ></iframe>\n",
       "        "
      ],
      "text/plain": [
       "<IPython.lib.display.IFrame at 0x2a07d3ae460>"
      ]
     },
     "execution_count": 2,
     "metadata": {},
     "output_type": "execute_result"
    }
   ],
   "source": [
    "# Enter qsmax in g/g*h\n",
    "# Enter Ks in g/l\n",
    "# Enter µmax in 1/h\n",
    "# Enter entrance substrate concentration\n",
    "# enter inlet flow in l/h\n",
    "# enter the end vloume of the reactor\n",
    "\n",
    "qsmax = 0.2\n",
    "Ks = 2\n",
    "mumax = 0.5 \n",
    "csf = 50\n",
    "Fin = 2\n",
    "Vend = 20\n",
    "\n",
    "\n",
    "def model (t, y):  \n",
    "    \n",
    "    cs = y[0]\n",
    "    \n",
    "    cx = y[1]\n",
    "    \n",
    "    Vl = y[2]\n",
    "    \n",
    "    qs = qsmax* cs/(cs + Ks)\n",
    "\n",
    "    mu = mumax*cs/(cs + Ks) \n",
    "    \n",
    "    if Vl <= Vend:\n",
    "        dVldt = Fin\n",
    "    else:\n",
    "        dVldt = 0.0\n",
    "    \n",
    "    dcsdt = dVldt/Vl * (csf - cs) - qs*cx\n",
    "    \n",
    "    dcxdt = cx*(mu - dVldt/Vl)\n",
    "    \n",
    "    return (dcsdt, dcxdt, dVldt)\n",
    "\n",
    "\n",
    "t = np.linspace(0, 15, 100)\n",
    "\n",
    "y0 = [50, 30, 5]\n",
    "\n",
    "#result = odeint(model, y0, t) # old: odeint\n",
    "result = solve_ivp(model, [np.min(t), np.max(t)], y0, t_eval=t).y.T \n",
    "\n",
    "\n",
    "\n",
    "\n",
    "\n",
    "pd.set_option('display.max_rows', 10)\n",
    "pandaframe2 = pd.DataFrame(result, columns= (\"cs\", \"cx\", \"Vl\"), index = t)\n",
    "\n",
    "pandaframe2.index.name = (\"time in h\")\n",
    "\n",
    "print(pandaframe2)\n",
    "\n",
    "layout2 = dict(title = \"Substrateconc,Biomassconc, Volume over time\", xaxis= dict(title= \"time in h\"),  yaxis = dict(  title= \"conc in g/l and volume in l\"))\n",
    "\n",
    "pandaframe2.iplot(layout = layout2 )\n",
    "\n",
    "#print(pandaframe2), printed my hier kommt kein plot mehr\n",
    "\n",
    "\n",
    "\n",
    "\n"
   ]
  },
  {
   "cell_type": "code",
   "execution_count": 3,
   "metadata": {
    "scrolled": false
   },
   "outputs": [
    {
     "name": "stdout",
     "output_type": "stream",
     "text": [
      "                     ms           mx         Vl\n",
      "0.000000   2.500000e+02   150.000000   5.000000\n",
      "0.151515   2.606193e+02   161.330394   5.303030\n",
      "0.303030   2.708972e+02   173.505662   5.606061\n",
      "0.454545   2.808111e+02   186.591060   5.909091\n",
      "0.606061   2.903367e+02   200.656452   6.212121\n",
      "...                 ...          ...        ...\n",
      "14.393939 -9.049537e-06  2650.304840  20.002439\n",
      "14.545455  3.817982e-06  2650.304808  20.002439\n",
      "14.696970  2.087668e-07  2650.304817  20.002439\n",
      "14.848485  3.666605e-06  2650.304808  20.002439\n",
      "15.000000  1.234879e-05  2650.304787  20.002439\n",
      "\n",
      "[100 rows x 3 columns]\n"
     ]
    },
    {
     "data": {
      "text/html": [
       "\n",
       "        <iframe\n",
       "            width=\"100%\"\n",
       "            height=\"525px\"\n",
       "            src=\"https://plotly.com/~senckyboi/167.embed\"\n",
       "            frameborder=\"0\"\n",
       "            allowfullscreen\n",
       "        ></iframe>\n",
       "        "
      ],
      "text/plain": [
       "<IPython.lib.display.IFrame at 0x2a0776b4a00>"
      ]
     },
     "execution_count": 3,
     "metadata": {},
     "output_type": "execute_result"
    }
   ],
   "source": [
    "#Zur Kontrolle für die obere Zelle hier einfach die Ergebnisse der Konzentrationen mal das Volumen = selbes Ergebnis\n",
    "\n",
    "cs_t = result[:, 0]\n",
    "cx_t = result[:, 1]\n",
    "Vl_t = result[:, 2]\n",
    "\n",
    "ms = cs_t*Vl_t\n",
    "\n",
    "mx = cx_t*Vl_t\n",
    "\n",
    "\n",
    "\n",
    "pd.set_option('display.max_rows', 10)\n",
    "\n",
    "numpy_data = np.column_stack((ms, mx, Vl_t))\n",
    "\n",
    "\n",
    "pandaframe3 = pd.DataFrame(numpy_data, columns= (\"ms\", \"mx\", \"Vl\"), index = t)\n",
    "\n",
    "print(pandaframe3)\n",
    "\n",
    "pandaframe3.index.name = (\"time in h\")\n",
    "layout3 = dict(title = \" m = c * V : Substratemass,Biomass, Volume over time\", xaxis= dict(title= \"time in h\"),  yaxis = dict(  title= \"mass in g and volume in l\"))\n",
    "\n",
    "\n",
    "pandaframe3.iplot(layout = layout3 )\n",
    "\n",
    "#print(pandaframe3)\n",
    "\n",
    "\n"
   ]
  },
  {
   "cell_type": "code",
   "execution_count": null,
   "metadata": {},
   "outputs": [],
   "source": [
    "# von matplotlib plot settings von vorher, nur für mein Gedächtnis\n",
    "\n",
    "\n",
    "cs_t = result[:, 0]\n",
    "cx_t = result[:, 1]\n",
    "Vl_t = result[:, 2]\n",
    "\n",
    "\n",
    "plt.plot(t, cs_t, \"r-\")\n",
    "plt.plot(t, cx_t, \"b-\")\n",
    "plt.plot(t, Vl_t, \"g-\")\n",
    "plt.legend([\"Cs\", \"Cx\", \"Vl\"])\n",
    "plt.show()"
   ]
  }
 ],
 "metadata": {
  "kernelspec": {
   "display_name": "Python 3",
   "language": "python",
   "name": "python3"
  },
  "language_info": {
   "codemirror_mode": {
    "name": "ipython",
    "version": 3
   },
   "file_extension": ".py",
   "mimetype": "text/x-python",
   "name": "python",
   "nbconvert_exporter": "python",
   "pygments_lexer": "ipython3",
   "version": "3.8.3"
  }
 },
 "nbformat": 4,
 "nbformat_minor": 4
}
